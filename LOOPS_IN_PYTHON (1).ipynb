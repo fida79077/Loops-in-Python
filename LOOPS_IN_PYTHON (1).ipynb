{
  "nbformat": 4,
  "nbformat_minor": 0,
  "metadata": {
    "colab": {
      "provenance": []
    },
    "kernelspec": {
      "name": "python3",
      "display_name": "Python 3"
    },
    "language_info": {
      "name": "python"
    }
  },
  "cells": [
    {
      "cell_type": "markdown",
      "source": [
        "Same part of code is executed again and again"
      ],
      "metadata": {
        "id": "7zUl4YUa1J1R"
      }
    },
    {
      "cell_type": "markdown",
      "source": [
        "for loop,\n",
        "while loop"
      ],
      "metadata": {
        "id": "X3z4mvoW1Xg8"
      }
    },
    {
      "cell_type": "code",
      "execution_count": null,
      "metadata": {
        "id": "Gz9msYgByjua"
      },
      "outputs": [],
      "source": [
        "#for loop"
      ]
    },
    {
      "cell_type": "code",
      "source": [
        "#syntax\n",
        "for i in list:\n",
        "  print(list)"
      ],
      "metadata": {
        "id": "O7RDBLMc1gFC"
      },
      "execution_count": null,
      "outputs": []
    },
    {
      "cell_type": "code",
      "source": [],
      "metadata": {
        "id": "3uIdq5KZ11H3"
      },
      "execution_count": null,
      "outputs": []
    },
    {
      "cell_type": "code",
      "source": [
        "for i in [2,4,6,2,5] :\n",
        " print(i)\n",
        " print('hi python')"
      ],
      "metadata": {
        "colab": {
          "base_uri": "https://localhost:8080/"
        },
        "id": "_KO7AV6Z1v3V",
        "outputId": "78848eea-5bd5-4222-afb0-46d04e88dba5"
      },
      "execution_count": null,
      "outputs": [
        {
          "output_type": "stream",
          "name": "stdout",
          "text": [
            "2\n",
            "hi python\n",
            "4\n",
            "hi python\n",
            "6\n",
            "hi python\n",
            "2\n",
            "hi python\n",
            "5\n",
            "hi python\n"
          ]
        }
      ]
    },
    {
      "cell_type": "markdown",
      "source": [
        "List Comprehension"
      ],
      "metadata": {
        "id": "RtZhpASS2YgV"
      }
    },
    {
      "cell_type": "code",
      "source": [
        "for i in [2,4,5,1]:\n",
        "  print('hi python')\n",
        "  print(i)\n",
        "\n",
        "print('hellow')"
      ],
      "metadata": {
        "colab": {
          "base_uri": "https://localhost:8080/"
        },
        "id": "e3GFEYg31_T9",
        "outputId": "f6058dd0-5c13-48bb-b8d2-c101cac501dc"
      },
      "execution_count": null,
      "outputs": [
        {
          "output_type": "stream",
          "name": "stdout",
          "text": [
            "hi python\n",
            "2\n",
            "hi python\n",
            "4\n",
            "hi python\n",
            "5\n",
            "hi python\n",
            "1\n",
            "hellow\n"
          ]
        }
      ]
    },
    {
      "cell_type": "code",
      "source": [
        "for i in [2,3,4,5,6,7,]:\n",
        " print(i)"
      ],
      "metadata": {
        "colab": {
          "base_uri": "https://localhost:8080/"
        },
        "id": "hruUimC32s6-",
        "outputId": "631113bb-70bf-465c-97f6-bdccf5d754eb"
      },
      "execution_count": null,
      "outputs": [
        {
          "output_type": "stream",
          "name": "stdout",
          "text": [
            "2\n",
            "3\n",
            "4\n",
            "5\n",
            "6\n",
            "7\n"
          ]
        }
      ]
    },
    {
      "cell_type": "code",
      "source": [
        "x = (2,3,4,5,6,7,)\n",
        "\n",
        "for i in x :\n",
        "  print(i)"
      ],
      "metadata": {
        "colab": {
          "base_uri": "https://localhost:8080/"
        },
        "id": "DnYV1fTD28A8",
        "outputId": "8b4d6601-5d24-49a3-b7f5-d0e2826b1327"
      },
      "execution_count": null,
      "outputs": [
        {
          "output_type": "stream",
          "name": "stdout",
          "text": [
            "2\n",
            "3\n",
            "4\n",
            "5\n",
            "6\n",
            "7\n"
          ]
        }
      ]
    },
    {
      "cell_type": "code",
      "source": [
        "#100,92,84,76\n",
        "x = range (100,10,-8)\n",
        "\n",
        "for i in x :\n",
        " print(i)"
      ],
      "metadata": {
        "colab": {
          "base_uri": "https://localhost:8080/"
        },
        "id": "UqfGE6sL3TED",
        "outputId": "cab1246b-6300-4965-9cd5-7a18b5db3ab3"
      },
      "execution_count": null,
      "outputs": [
        {
          "output_type": "stream",
          "name": "stdout",
          "text": [
            "100\n",
            "92\n",
            "84\n",
            "76\n",
            "68\n",
            "60\n",
            "52\n",
            "44\n",
            "36\n",
            "28\n",
            "20\n",
            "12\n"
          ]
        }
      ]
    },
    {
      "cell_type": "code",
      "source": [
        "#100,92,84,76\n",
        "x = range (100,10,-8)\n",
        "\n",
        "for i in x :\n",
        "  print ( i , end = ',')"
      ],
      "metadata": {
        "colab": {
          "base_uri": "https://localhost:8080/"
        },
        "id": "R03jcmLe3k32",
        "outputId": "78953e18-e505-4673-c5ae-bf70435d5ede"
      },
      "execution_count": null,
      "outputs": [
        {
          "output_type": "stream",
          "name": "stdout",
          "text": [
            "100,92,84,76,68,60,52,44,36,28,20,12,"
          ]
        }
      ]
    },
    {
      "cell_type": "code",
      "source": [
        "#odd = [100,500]\n",
        "#even = [100,500]\n",
        "#num = [100,500]\n",
        "\n",
        "x = range (100,501)\n",
        "\n",
        "for i in x:\n",
        "  odd = []\n",
        "  even = []\n",
        "  num = []\n",
        "for i in x:\n",
        "  num.append (i)\n",
        "  if i%2 == 0 :\n",
        "    even.append(i)\n",
        "\n",
        "  else:\n",
        "    odd.append(i)\n",
        "\n",
        "\n",
        "print(num)\n",
        "print(odd)\n",
        "print(even)"
      ],
      "metadata": {
        "colab": {
          "base_uri": "https://localhost:8080/"
        },
        "id": "wqpES0vO8KmZ",
        "outputId": "66d026a8-5e5a-4282-d0f0-b84ce4737ae2"
      },
      "execution_count": null,
      "outputs": [
        {
          "output_type": "stream",
          "name": "stdout",
          "text": [
            "[100, 101, 102, 103, 104, 105, 106, 107, 108, 109, 110, 111, 112, 113, 114, 115, 116, 117, 118, 119, 120, 121, 122, 123, 124, 125, 126, 127, 128, 129, 130, 131, 132, 133, 134, 135, 136, 137, 138, 139, 140, 141, 142, 143, 144, 145, 146, 147, 148, 149, 150, 151, 152, 153, 154, 155, 156, 157, 158, 159, 160, 161, 162, 163, 164, 165, 166, 167, 168, 169, 170, 171, 172, 173, 174, 175, 176, 177, 178, 179, 180, 181, 182, 183, 184, 185, 186, 187, 188, 189, 190, 191, 192, 193, 194, 195, 196, 197, 198, 199, 200, 201, 202, 203, 204, 205, 206, 207, 208, 209, 210, 211, 212, 213, 214, 215, 216, 217, 218, 219, 220, 221, 222, 223, 224, 225, 226, 227, 228, 229, 230, 231, 232, 233, 234, 235, 236, 237, 238, 239, 240, 241, 242, 243, 244, 245, 246, 247, 248, 249, 250, 251, 252, 253, 254, 255, 256, 257, 258, 259, 260, 261, 262, 263, 264, 265, 266, 267, 268, 269, 270, 271, 272, 273, 274, 275, 276, 277, 278, 279, 280, 281, 282, 283, 284, 285, 286, 287, 288, 289, 290, 291, 292, 293, 294, 295, 296, 297, 298, 299, 300, 301, 302, 303, 304, 305, 306, 307, 308, 309, 310, 311, 312, 313, 314, 315, 316, 317, 318, 319, 320, 321, 322, 323, 324, 325, 326, 327, 328, 329, 330, 331, 332, 333, 334, 335, 336, 337, 338, 339, 340, 341, 342, 343, 344, 345, 346, 347, 348, 349, 350, 351, 352, 353, 354, 355, 356, 357, 358, 359, 360, 361, 362, 363, 364, 365, 366, 367, 368, 369, 370, 371, 372, 373, 374, 375, 376, 377, 378, 379, 380, 381, 382, 383, 384, 385, 386, 387, 388, 389, 390, 391, 392, 393, 394, 395, 396, 397, 398, 399, 400, 401, 402, 403, 404, 405, 406, 407, 408, 409, 410, 411, 412, 413, 414, 415, 416, 417, 418, 419, 420, 421, 422, 423, 424, 425, 426, 427, 428, 429, 430, 431, 432, 433, 434, 435, 436, 437, 438, 439, 440, 441, 442, 443, 444, 445, 446, 447, 448, 449, 450, 451, 452, 453, 454, 455, 456, 457, 458, 459, 460, 461, 462, 463, 464, 465, 466, 467, 468, 469, 470, 471, 472, 473, 474, 475, 476, 477, 478, 479, 480, 481, 482, 483, 484, 485, 486, 487, 488, 489, 490, 491, 492, 493, 494, 495, 496, 497, 498, 499, 500]\n",
            "[101, 103, 105, 107, 109, 111, 113, 115, 117, 119, 121, 123, 125, 127, 129, 131, 133, 135, 137, 139, 141, 143, 145, 147, 149, 151, 153, 155, 157, 159, 161, 163, 165, 167, 169, 171, 173, 175, 177, 179, 181, 183, 185, 187, 189, 191, 193, 195, 197, 199, 201, 203, 205, 207, 209, 211, 213, 215, 217, 219, 221, 223, 225, 227, 229, 231, 233, 235, 237, 239, 241, 243, 245, 247, 249, 251, 253, 255, 257, 259, 261, 263, 265, 267, 269, 271, 273, 275, 277, 279, 281, 283, 285, 287, 289, 291, 293, 295, 297, 299, 301, 303, 305, 307, 309, 311, 313, 315, 317, 319, 321, 323, 325, 327, 329, 331, 333, 335, 337, 339, 341, 343, 345, 347, 349, 351, 353, 355, 357, 359, 361, 363, 365, 367, 369, 371, 373, 375, 377, 379, 381, 383, 385, 387, 389, 391, 393, 395, 397, 399, 401, 403, 405, 407, 409, 411, 413, 415, 417, 419, 421, 423, 425, 427, 429, 431, 433, 435, 437, 439, 441, 443, 445, 447, 449, 451, 453, 455, 457, 459, 461, 463, 465, 467, 469, 471, 473, 475, 477, 479, 481, 483, 485, 487, 489, 491, 493, 495, 497, 499]\n",
            "[100, 102, 104, 106, 108, 110, 112, 114, 116, 118, 120, 122, 124, 126, 128, 130, 132, 134, 136, 138, 140, 142, 144, 146, 148, 150, 152, 154, 156, 158, 160, 162, 164, 166, 168, 170, 172, 174, 176, 178, 180, 182, 184, 186, 188, 190, 192, 194, 196, 198, 200, 202, 204, 206, 208, 210, 212, 214, 216, 218, 220, 222, 224, 226, 228, 230, 232, 234, 236, 238, 240, 242, 244, 246, 248, 250, 252, 254, 256, 258, 260, 262, 264, 266, 268, 270, 272, 274, 276, 278, 280, 282, 284, 286, 288, 290, 292, 294, 296, 298, 300, 302, 304, 306, 308, 310, 312, 314, 316, 318, 320, 322, 324, 326, 328, 330, 332, 334, 336, 338, 340, 342, 344, 346, 348, 350, 352, 354, 356, 358, 360, 362, 364, 366, 368, 370, 372, 374, 376, 378, 380, 382, 384, 386, 388, 390, 392, 394, 396, 398, 400, 402, 404, 406, 408, 410, 412, 414, 416, 418, 420, 422, 424, 426, 428, 430, 432, 434, 436, 438, 440, 442, 444, 446, 448, 450, 452, 454, 456, 458, 460, 462, 464, 466, 468, 470, 472, 474, 476, 478, 480, 482, 484, 486, 488, 490, 492, 494, 496, 498, 500]\n"
          ]
        }
      ]
    },
    {
      "cell_type": "code",
      "source": [
        "#1\n",
        "#1 2\n",
        "#1 2 3\n",
        "#1 2 3 4\n",
        "#1 2 3 4 5\n",
        "\n",
        "for i in range(1,6):\n",
        "  for i in range (1,i+1):\n",
        "    print(i,end = ' ')\n",
        "  print('\\n')"
      ],
      "metadata": {
        "colab": {
          "base_uri": "https://localhost:8080/"
        },
        "id": "JCtaVycL9NkR",
        "outputId": "ffdd8a53-829c-4bbd-ad29-27cfd619da52"
      },
      "execution_count": null,
      "outputs": [
        {
          "output_type": "stream",
          "name": "stdout",
          "text": [
            "1 \n",
            "\n",
            "1 2 \n",
            "\n",
            "1 2 3 \n",
            "\n",
            "1 2 3 4 \n",
            "\n",
            "1 2 3 4 5 \n",
            "\n"
          ]
        }
      ]
    },
    {
      "cell_type": "code",
      "source": [
        "for i in range(1,6):\n",
        " for i in range(i,0,-1):\n",
        "\n",
        "  print(i,end = ' ')\n",
        " print('\\n')"
      ],
      "metadata": {
        "colab": {
          "base_uri": "https://localhost:8080/"
        },
        "id": "xAEXgiYH-lRF",
        "outputId": "4ad32ac7-aeda-423e-e34b-39fe006d38e0"
      },
      "execution_count": null,
      "outputs": [
        {
          "output_type": "stream",
          "name": "stdout",
          "text": [
            "1 \n",
            "\n",
            "2 1 \n",
            "\n",
            "3 2 1 \n",
            "\n",
            "4 3 2 1 \n",
            "\n",
            "5 4 3 2 1 \n",
            "\n"
          ]
        }
      ]
    },
    {
      "cell_type": "code",
      "source": [
        "for i in range (1,6):\n",
        "  for i in range (i,0,-1):\n",
        "\n",
        "    print(i,end = ' ')\n",
        "  print('\\n')"
      ],
      "metadata": {
        "colab": {
          "base_uri": "https://localhost:8080/"
        },
        "id": "mKFNQfLJ-7FX",
        "outputId": "7cff3f27-9450-4943-fb39-618895b3e966"
      },
      "execution_count": null,
      "outputs": [
        {
          "output_type": "stream",
          "name": "stdout",
          "text": [
            "1 \n",
            "\n",
            "2 1 \n",
            "\n",
            "3 2 1 \n",
            "\n",
            "4 3 2 1 \n",
            "\n",
            "5 4 3 2 1 \n",
            "\n"
          ]
        }
      ]
    },
    {
      "cell_type": "code",
      "source": [
        "dict1 = {'name':'fida','phn':643673 ,'age':21}\n",
        "\n",
        "for i in dict1:\n",
        "  print(i)"
      ],
      "metadata": {
        "colab": {
          "base_uri": "https://localhost:8080/"
        },
        "outputId": "5332b6fa-42f0-4983-b03a-218d9b1d2628",
        "id": "BcFlJ8K_A-Jy"
      },
      "execution_count": null,
      "outputs": [
        {
          "output_type": "stream",
          "name": "stdout",
          "text": [
            "name\n",
            "phn\n",
            "age\n"
          ]
        }
      ]
    },
    {
      "cell_type": "code",
      "source": [
        "dict1 = {'name':'fida','phn':643673 ,'age':21}\n",
        "\n",
        "list1 = []\n",
        "for i in dict1:\n",
        "  list1.append(i)\n",
        "\n",
        "print(list1)"
      ],
      "metadata": {
        "colab": {
          "base_uri": "https://localhost:8080/"
        },
        "id": "_uLRhDiq_WbE",
        "outputId": "2249e448-0f5c-462d-ba02-3214b3ce9151"
      },
      "execution_count": null,
      "outputs": [
        {
          "output_type": "stream",
          "name": "stdout",
          "text": [
            "['name', 'phn', 'age']\n"
          ]
        }
      ]
    },
    {
      "cell_type": "code",
      "source": [
        "dict1 = {'name':'fida','phn':643673 ,'age':21}\n",
        "\n",
        "list1 = []\n",
        "for i in dict1:\n",
        "  list1.append(dict1[i])\n",
        "\n",
        "print(list1)"
      ],
      "metadata": {
        "colab": {
          "base_uri": "https://localhost:8080/"
        },
        "outputId": "4f6d0a43-da25-4d10-a505-9bd24a477d3e",
        "id": "loWquqLUApLK"
      },
      "execution_count": null,
      "outputs": [
        {
          "output_type": "stream",
          "name": "stdout",
          "text": [
            "['fida', 643673, 21]\n"
          ]
        }
      ]
    },
    {
      "cell_type": "code",
      "source": [
        "dict1 = {'name':'fida','phn':643673 ,'age':21}\n",
        "\n",
        "list1 = []\n",
        "for i in dict1:\n",
        "  list1.append(dict1.get(i))\n",
        "\n",
        "print(list1)"
      ],
      "metadata": {
        "colab": {
          "base_uri": "https://localhost:8080/"
        },
        "outputId": "8c0e0d68-c329-40cf-8ee3-f921c5d25118",
        "id": "v8MuiUgLBLjx"
      },
      "execution_count": null,
      "outputs": [
        {
          "output_type": "stream",
          "name": "stdout",
          "text": [
            "['fida', 643673, 21]\n"
          ]
        }
      ]
    },
    {
      "cell_type": "code",
      "source": [
        "dict1 = {'name':'fida','phn':643673 ,'age':21}\n",
        "\n",
        "list1 = []\n",
        "for i in dict1.values():\n",
        "  list1.append(i)\n",
        "\n",
        "print(list1)"
      ],
      "metadata": {
        "colab": {
          "base_uri": "https://localhost:8080/"
        },
        "outputId": "2ced4114-edf8-43c4-ecb5-75e6595c3d49",
        "id": "b4bMzGgEBbAz"
      },
      "execution_count": null,
      "outputs": [
        {
          "output_type": "stream",
          "name": "stdout",
          "text": [
            "['fida', 643673, 21]\n"
          ]
        }
      ]
    },
    {
      "cell_type": "code",
      "source": [
        "dict1 = {'name':'fida','phn':643673 ,'age':21}\n",
        "\n",
        "list1 = []\n",
        "for i in dict1.keys():\n",
        "  list1.append(i)\n",
        "\n",
        "print(list1)"
      ],
      "metadata": {
        "colab": {
          "base_uri": "https://localhost:8080/"
        },
        "outputId": "3eb169f6-c078-4999-f782-e3c13818b03b",
        "id": "CGEnCg3xBm6W"
      },
      "execution_count": null,
      "outputs": [
        {
          "output_type": "stream",
          "name": "stdout",
          "text": [
            "['name', 'phn', 'age']\n"
          ]
        }
      ]
    },
    {
      "cell_type": "code",
      "source": [
        "dict1 = {'name':'fida','phn':643673 ,'age':21}\n",
        "\n",
        "list1 = []\n",
        "list2 = []\n",
        "\n",
        "for i,j in dict1.items():\n",
        "  list1.append(i)\n",
        "  list2.append(j)\n",
        "\n",
        "print(list1)\n",
        "print(list2)"
      ],
      "metadata": {
        "colab": {
          "base_uri": "https://localhost:8080/"
        },
        "outputId": "617d08af-b61f-4823-a1b9-491cc9fb1339",
        "id": "1tU6Mq3OBxWK"
      },
      "execution_count": null,
      "outputs": [
        {
          "output_type": "stream",
          "name": "stdout",
          "text": [
            "['name', 'phn', 'age']\n",
            "['fida', 643673, 21]\n"
          ]
        }
      ]
    },
    {
      "cell_type": "code",
      "source": [
        "employees = [{'id':1000,'name':\"hari\",'dept':'devop','salary':34000},\n",
        "             {'id':1001,'name':'ravi','dept':'devop','salary':24000},\n",
        "             {'id':1002,'name':'ram','dept':'qa','salary':37000},\n",
        "             {'id':1003,'name':'ajay','dept':'ga','slary':14000},\n",
        "             {'id':1004,'name':'anu','dept':'ba','salary':54000},\n",
        "             {'id':1005,'name':'tini','dept':'qa','salary':64000}]\n",
        "\n",
        "\n",
        "for i in employees:\n",
        "  if i ['salary'] < 25000:\n",
        "    print(i['name'])\n",
        "\n",
        "\n",
        "\n",
        "\n"
      ],
      "metadata": {
        "id": "1GMthmSPBr6P",
        "colab": {
          "base_uri": "https://localhost:8080/",
          "height": 228
        },
        "outputId": "3cd263a0-ab7b-45be-d6a4-d5e27a495838"
      },
      "execution_count": null,
      "outputs": [
        {
          "output_type": "stream",
          "name": "stdout",
          "text": [
            "ravi\n"
          ]
        },
        {
          "output_type": "error",
          "ename": "KeyError",
          "evalue": "'salary'",
          "traceback": [
            "\u001b[0;31m---------------------------------------------------------------------------\u001b[0m",
            "\u001b[0;31mKeyError\u001b[0m                                  Traceback (most recent call last)",
            "\u001b[0;32m<ipython-input-6-934bd565d7bd>\u001b[0m in \u001b[0;36m<cell line: 9>\u001b[0;34m()\u001b[0m\n\u001b[1;32m      8\u001b[0m \u001b[0;34m\u001b[0m\u001b[0m\n\u001b[1;32m      9\u001b[0m \u001b[0;32mfor\u001b[0m \u001b[0mi\u001b[0m \u001b[0;32min\u001b[0m \u001b[0memployees\u001b[0m\u001b[0;34m:\u001b[0m\u001b[0;34m\u001b[0m\u001b[0;34m\u001b[0m\u001b[0m\n\u001b[0;32m---> 10\u001b[0;31m   \u001b[0;32mif\u001b[0m \u001b[0mi\u001b[0m \u001b[0;34m[\u001b[0m\u001b[0;34m'salary'\u001b[0m\u001b[0;34m]\u001b[0m \u001b[0;34m<\u001b[0m \u001b[0;36m25000\u001b[0m\u001b[0;34m:\u001b[0m\u001b[0;34m\u001b[0m\u001b[0;34m\u001b[0m\u001b[0m\n\u001b[0m\u001b[1;32m     11\u001b[0m     \u001b[0mprint\u001b[0m\u001b[0;34m(\u001b[0m\u001b[0mi\u001b[0m\u001b[0;34m[\u001b[0m\u001b[0;34m'name'\u001b[0m\u001b[0;34m]\u001b[0m\u001b[0;34m)\u001b[0m\u001b[0;34m\u001b[0m\u001b[0;34m\u001b[0m\u001b[0m\n\u001b[1;32m     12\u001b[0m \u001b[0;34m\u001b[0m\u001b[0m\n",
            "\u001b[0;31mKeyError\u001b[0m: 'salary'"
          ]
        }
      ]
    },
    {
      "cell_type": "code",
      "source": [
        "employees=[\n",
        "{\"id\":1000,\"name\":\"hari\", \"dept\":\"devop\",\"salary\":34000},\n",
        "{\"id\":1001, \"name\":\"ravi\", \"dept\":\"devop\",\"salary\":24000},\n",
        "{\"id\":1002, \"name\":\"ram\", \"dept\":\"qa\", \"salary\":37000},\n",
        "{\"id\":1003, \"name\":\"ajay\", \"dept\":\"ga\",\"salary\":14000},\n",
        "{\"id\":1004, \"name\": \"anu\", \"dept\":\"ba\", \"salary\":54000},\n",
        "{\"id\":1005, \"name\": \"tini\", \"dept\":\"qa\",\"salary\":64000},]\n",
        "\n",
        "for i in employees:\n",
        "  if i ['salary'] < 25000:\n",
        "    print(i['name'])\n"
      ],
      "metadata": {
        "id": "bSddAqmQDvYi",
        "colab": {
          "base_uri": "https://localhost:8080/"
        },
        "outputId": "9802c0fe-a1dc-4ffc-c668-489adeb44afb"
      },
      "execution_count": null,
      "outputs": [
        {
          "output_type": "stream",
          "name": "stdout",
          "text": [
            "ravi\n",
            "ajay\n"
          ]
        }
      ]
    },
    {
      "cell_type": "code",
      "source": [
        "for i in employees:\n",
        "  if i ['dept'] == 'devop':\n",
        "    print(i['name'])"
      ],
      "metadata": {
        "colab": {
          "base_uri": "https://localhost:8080/"
        },
        "id": "RrWSiYaiI8pb",
        "outputId": "8b31ccde-57a1-437b-8278-1fdcfbc9131c"
      },
      "execution_count": null,
      "outputs": [
        {
          "output_type": "stream",
          "name": "stdout",
          "text": [
            "hari\n",
            "ravi\n"
          ]
        }
      ]
    },
    {
      "cell_type": "code",
      "source": [
        "n = int(input('enter how many numbers you want to enter to input: '))\n",
        "\n",
        "\n",
        "odd = []\n",
        "even = []\n",
        "list1 = []\n",
        "dict1 = {}\n",
        "\n",
        "for i in range(n):\n",
        "  num = int(input('enter the numbers:'))\n",
        "\n",
        "\n",
        "  list1.append(num)\n",
        "\n",
        "  if num%2 == 0 :\n",
        "     even.append(num)\n",
        "  else :\n",
        "     odd.append(num)\n",
        "  dict1[num] = list1.count(num)\n",
        "print(odd)\n",
        "print(even)\n",
        "print(list1)\n",
        "print(dict1)"
      ],
      "metadata": {
        "colab": {
          "base_uri": "https://localhost:8080/"
        },
        "id": "GKrDzRcAJf9L",
        "outputId": "7904e47f-3d09-489a-e96c-29e447f413e7"
      },
      "execution_count": null,
      "outputs": [
        {
          "output_type": "stream",
          "name": "stdout",
          "text": [
            "enter how many numbers you want to enter to input: 5\n",
            "enter the numbers:56\n",
            "enter the numbers:7\n",
            "enter the numbers:99\n",
            "enter the numbers:88\n",
            "enter the numbers:7\n",
            "[7, 99, 7]\n",
            "[56, 88]\n",
            "[56, 7, 99, 88, 7]\n",
            "{56: 1, 7: 2, 99: 1, 88: 1}\n"
          ]
        }
      ]
    },
    {
      "cell_type": "code",
      "source": [],
      "metadata": {
        "id": "lcLFzpPeUXkF"
      },
      "execution_count": null,
      "outputs": []
    },
    {
      "cell_type": "code",
      "source": [
        "n = int(input('enter how many numbers you want to enter to input: '))\n",
        "\n",
        "\n",
        "odd = []\n",
        "even = []\n",
        "list1 = []\n",
        "dict1 = {}\n",
        "\n",
        "for i in range(n):\n",
        "  num = int(input('enter the numbers:'))\n",
        "\n",
        "\n",
        "  list1.append(num)\n",
        "\n",
        "  if num%2 == 0 :\n",
        "     even.append(num)\n",
        "  else :\n",
        "     odd.append(num)\n",
        "\n",
        "\n",
        "  if num  not in dict1:\n",
        "    dict1[num] = 1\n",
        "  else:\n",
        "    dict1[num] = dict1[num] + 1\n",
        "\n",
        "\n",
        "print(odd)\n",
        "print(even)\n",
        "print(list1)\n",
        "print(dict1)"
      ],
      "metadata": {
        "colab": {
          "base_uri": "https://localhost:8080/"
        },
        "outputId": "7fcd4a41-28c8-465d-c11a-55aca5c90dbc",
        "id": "P-yvJAsVUYEb"
      },
      "execution_count": null,
      "outputs": [
        {
          "output_type": "stream",
          "name": "stdout",
          "text": [
            "enter how many numbers you want to enter to input: 5\n",
            "enter the numbers:7\n",
            "enter the numbers:7\n",
            "enter the numbers:8\n",
            "enter the numbers:5\n",
            "enter the numbers:7\n",
            "[7, 7, 5, 7]\n",
            "[8]\n",
            "[7, 7, 8, 5, 7]\n",
            "{7: 3, 8: 1, 5: 1}\n"
          ]
        }
      ]
    },
    {
      "cell_type": "markdown",
      "source": [
        "If the number num is already a key in the dictionary, its value (count) is incremented by 1 .\n",
        "\n"
      ],
      "metadata": {
        "id": "j_zpMDylSNPA"
      }
    },
    {
      "cell_type": "markdown",
      "source": [
        "if the number num is not a key in the dectionary ,it is added as a key with the value (cout) set to 1"
      ],
      "metadata": {
        "id": "4ZmqK887Siki"
      }
    },
    {
      "cell_type": "code",
      "source": [
        "#jumping statements (loop cntrol statements)\n",
        "\n",
        "#break\n",
        "#continue\n",
        "#pass\n",
        "\n",
        "for i in range(10) :\n",
        "\n",
        "  pass\n",
        "\n",
        "\n",
        "print('hello')\n"
      ],
      "metadata": {
        "colab": {
          "base_uri": "https://localhost:8080/"
        },
        "id": "QqSIevOhM0XF",
        "outputId": "a5f80a65-f493-496f-b230-15e9f874b12f"
      },
      "execution_count": null,
      "outputs": [
        {
          "output_type": "stream",
          "name": "stdout",
          "text": [
            "hello\n"
          ]
        }
      ]
    },
    {
      "cell_type": "code",
      "source": [
        "for i in range (10):\n",
        "  print(i)\n",
        "  if i == 6:\n",
        "    break\n",
        "\n"
      ],
      "metadata": {
        "colab": {
          "base_uri": "https://localhost:8080/"
        },
        "id": "4wImhgtKWAT_",
        "outputId": "e54ece15-d9f5-4160-89fe-b42ce6c98c9d"
      },
      "execution_count": null,
      "outputs": [
        {
          "output_type": "stream",
          "name": "stdout",
          "text": [
            "0\n",
            "1\n",
            "2\n",
            "3\n",
            "4\n",
            "5\n",
            "6\n"
          ]
        }
      ]
    },
    {
      "cell_type": "code",
      "source": [
        "for i in range (10):\n",
        "  if i == 6:\n",
        "    break\n",
        "\n",
        "  print(i)"
      ],
      "metadata": {
        "colab": {
          "base_uri": "https://localhost:8080/"
        },
        "id": "6ATG5qvHTPTX",
        "outputId": "81aaa0e4-e582-4de0-eb25-7cea3a20f69a"
      },
      "execution_count": null,
      "outputs": [
        {
          "output_type": "stream",
          "name": "stdout",
          "text": [
            "0\n",
            "1\n",
            "2\n",
            "3\n",
            "4\n",
            "5\n"
          ]
        }
      ]
    },
    {
      "cell_type": "code",
      "source": [
        "for i in range (10):\n",
        "\n",
        "  if i == 6:\n",
        "    continue\n",
        "\n",
        "\n",
        "  print(i)\n",
        "\n",
        "         # there is no 6"
      ],
      "metadata": {
        "colab": {
          "base_uri": "https://localhost:8080/"
        },
        "id": "uFuRG13XV2mz",
        "outputId": "e238c6f0-44d4-4355-a646-0f768e4f0f35"
      },
      "execution_count": null,
      "outputs": [
        {
          "output_type": "stream",
          "name": "stdout",
          "text": [
            "0\n",
            "1\n",
            "2\n",
            "3\n",
            "4\n",
            "5\n",
            "7\n",
            "8\n",
            "9\n"
          ]
        }
      ]
    },
    {
      "cell_type": "code",
      "source": [
        "# for loop with else\n",
        "# the else keyword in a for loop specifies a block of code to be executed when the loop is finished\n",
        "\n",
        "for i in range(10):\n",
        "   print(i)\n",
        "   if i == 6:\n",
        "    break\n",
        "\n",
        "else :\n",
        "  print(i,'is the last value of i')"
      ],
      "metadata": {
        "colab": {
          "base_uri": "https://localhost:8080/"
        },
        "id": "BGFKuURcWfVP",
        "outputId": "ab50785c-3311-490e-b63f-0f2cd63ffa2b"
      },
      "execution_count": null,
      "outputs": [
        {
          "output_type": "stream",
          "name": "stdout",
          "text": [
            "0\n",
            "1\n",
            "2\n",
            "3\n",
            "4\n",
            "5\n",
            "6\n"
          ]
        }
      ]
    },
    {
      "cell_type": "code",
      "source": [
        "for i in range(10):\n",
        "   print(i)\n",
        "   if i == 6:\n",
        "    continue\n",
        "\n",
        "else :\n",
        "  print(i,'is the last value of i')"
      ],
      "metadata": {
        "colab": {
          "base_uri": "https://localhost:8080/"
        },
        "id": "4qxfMGQuYe6c",
        "outputId": "587aaea1-a02d-4ebe-fbd7-bffc2f7ea748"
      },
      "execution_count": null,
      "outputs": [
        {
          "output_type": "stream",
          "name": "stdout",
          "text": [
            "0\n",
            "1\n",
            "2\n",
            "3\n",
            "4\n",
            "5\n",
            "6\n",
            "7\n",
            "8\n",
            "9\n",
            "9 is the last value of i\n"
          ]
        }
      ]
    },
    {
      "cell_type": "markdown",
      "source": [
        "**WHILE LOOP**"
      ],
      "metadata": {
        "id": "aMRbLaRWZnmx"
      }
    },
    {
      "cell_type": "code",
      "source": [
        "# with while loop we can execute a set of statements as long as the condition is ture\n",
        "\n",
        "x = 5\n",
        "\n",
        "while x < 10 :\n",
        "  x = x+1\n",
        "  print(x)"
      ],
      "metadata": {
        "colab": {
          "base_uri": "https://localhost:8080/"
        },
        "id": "2ZvvroNKYl6Y",
        "outputId": "19f7c2da-dcc2-4a81-9b0b-c880c11d0c8e"
      },
      "execution_count": null,
      "outputs": [
        {
          "output_type": "stream",
          "name": "stdout",
          "text": [
            "6\n",
            "7\n",
            "8\n",
            "9\n",
            "10\n"
          ]
        }
      ]
    },
    {
      "cell_type": "code",
      "source": [
        "while True :\n",
        "\n",
        "  age = int(input('enter your age: '))\n",
        "\n",
        "  if age >60:\n",
        "    print('you are eligible')\n",
        "\n",
        "  else:\n",
        "    print('you are not eligible')\n",
        "\n",
        "  x = input('if you want to continue enter yes otherwise no')\n",
        "\n",
        "  if x == 'no':\n",
        "    print('thenkyou sir bye')\n",
        "    break"
      ],
      "metadata": {
        "colab": {
          "base_uri": "https://localhost:8080/"
        },
        "id": "29GSauTKaL3w",
        "outputId": "183b179a-6f7e-4b90-b558-991bb748f798"
      },
      "execution_count": null,
      "outputs": [
        {
          "output_type": "stream",
          "name": "stdout",
          "text": [
            "enter your age: 60\n",
            "you are not eligible\n",
            "if you want to continue enter yes otherwise noyes\n",
            "enter your age: 67\n",
            "you are eligible\n",
            "if you want to continue enter yes otherwise noyes\n",
            "enter your age: 5\n",
            "you are not eligible\n",
            "if you want to continue enter yes otherwise nono\n",
            "thenkyou sir bye\n"
          ]
        }
      ]
    },
    {
      "cell_type": "code",
      "source": [],
      "metadata": {
        "id": "Cdc9rp1xbFC-"
      },
      "execution_count": null,
      "outputs": []
    }
  ]
}